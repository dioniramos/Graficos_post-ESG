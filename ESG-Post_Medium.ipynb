{
 "cells": [
  {
   "cell_type": "markdown",
   "metadata": {},
   "source": [
    "# **ESG - Post Medium**\n",
    "\n",
    "***\n",
    "## Crescimento nas pesquisas sobre o termo \"ESG\"\n",
    "* **Google trends**\n",
    "\t* baixar o csv com os dados de 01/01/2010-31/12/2020 com as pesquisas do termo \"ESG\" no Brasil e no Mundo.\n",
    "\n",
    "***\n",
    "## Visualização da composição das carteira\n",
    "* **Web scraping da composição da carteiras no site da B3**\n",
    "\t* Ibovespa - [IBOV](http://www.b3.com.br/pt_br/market-data-e-indices/indices/indices-amplos/ibovespa.html)\n",
    "\t* Indice de Sustentabilidade Empresarial - [ISE](http://www.b3.com.br/pt_br/market-data-e-indices/indices/indices-de-sustentabilidade/indice-de-sustentabilidade-empresarial-ise.html)\n",
    "\t* Indice Carbono Eficiente - [ICO2](http://www.b3.com.br/pt_br/market-data-e-indices/indices/indices-de-sustentabilidade/indice-carbono-eficiente-ico2.html)\n",
    "* **Gráfico de visualização**\n",
    "\n",
    "***\n",
    "## Baixar dados de cotações diarias dos indices para visualizar o retorno ao longo do tempo\n",
    "* **Investing (API) - [investpy](https://pypi.org/project/investpy/)**\n",
    "* **plotar gráfico de linha para melhor visulização**\n",
    "\n",
    "***"
   ]
  },
  {
   "cell_type": "markdown",
   "metadata": {
    "ExecuteTime": {
     "end_time": "2021-01-22T19:54:14.322275Z",
     "start_time": "2021-01-22T19:54:14.262642Z"
    }
   },
   "source": [
    "### Importations"
   ]
  },
  {
   "cell_type": "code",
   "execution_count": null,
   "metadata": {
    "ExecuteTime": {
     "end_time": "2021-01-25T15:09:04.222093Z",
     "start_time": "2021-01-25T15:08:59.469709Z"
    }
   },
   "outputs": [],
   "source": [
    "import pandas as pd\n",
    "import cufflinks as cf\n",
    "from plotly.offline import iplot\n",
    "import investpy as inv"
   ]
  },
  {
   "cell_type": "code",
   "execution_count": null,
   "metadata": {
    "ExecuteTime": {
     "end_time": "2021-01-25T15:09:31.098320Z",
     "start_time": "2021-01-25T15:09:29.979520Z"
    }
   },
   "outputs": [],
   "source": [
    "cf.go_offline()"
   ]
  },
  {
   "cell_type": "markdown",
   "metadata": {},
   "source": [
    "### Crescimento nas pesquisas sobre o termo \"ESG\""
   ]
  },
  {
   "cell_type": "code",
   "execution_count": null,
   "metadata": {
    "ExecuteTime": {
     "end_time": "2021-01-25T15:10:35.824313Z",
     "start_time": "2021-01-25T15:10:35.806322Z"
    }
   },
   "outputs": [],
   "source": [
    "# Carregando dados csv baixados do google trends\n",
    "trends_world = pd.read_csv('esg_mundo_2010-2020.csv', sep=',')"
   ]
  },
  {
   "cell_type": "code",
   "execution_count": null,
   "metadata": {
    "ExecuteTime": {
     "end_time": "2021-01-25T15:10:36.774583Z",
     "start_time": "2021-01-25T15:10:36.746598Z"
    },
    "scrolled": false
   },
   "outputs": [],
   "source": [
    "trends_world.columns = ['Data', 'Pesquisa pelo termo ESG']\n",
    "trends_world['Data'] = pd.to_datetime(trends_world['Data'])\n",
    "trends_world['Pesquisa pelo termo ESG'] = trends_world[\n",
    "    'Pesquisa pelo termo ESG'].astype(float)\n",
    "trends_world.head()"
   ]
  },
  {
   "cell_type": "code",
   "execution_count": null,
   "metadata": {
    "ExecuteTime": {
     "end_time": "2021-01-25T14:21:09.406071Z",
     "start_time": "2021-01-25T14:21:08.488785Z"
    }
   },
   "outputs": [],
   "source": [
    "# Gerando gráfico\n",
    "trends_world.plot('Data',\n",
    "                  'Pesquisa pelo termo ESG',\n",
    "                  figsize=(20, 7),\n",
    "                  title='Busca pelo termo \"ESG\" no mundo',\n",
    "                  grid=True)\n",
    "plt.show()"
   ]
  },
  {
   "cell_type": "code",
   "execution_count": null,
   "metadata": {
    "ExecuteTime": {
     "end_time": "2021-01-25T14:18:43.731329Z",
     "start_time": "2021-01-25T14:18:43.669365Z"
    }
   },
   "outputs": [],
   "source": [
    "# Carregando dados csv baixados do google trends\n",
    "trends_brasil = pd.read_csv('esg_brasil_2010-2020.csv', sep=',')"
   ]
  },
  {
   "cell_type": "code",
   "execution_count": null,
   "metadata": {
    "ExecuteTime": {
     "end_time": "2021-01-25T14:18:44.745234Z",
     "start_time": "2021-01-25T14:18:44.718249Z"
    }
   },
   "outputs": [],
   "source": [
    "trends_brasil.columns = ['Data', 'Pesquisa pelo termo ESG']\n",
    "trends_brasil['Data'] = pd.to_datetime(trends_brasil['Data'])\n",
    "trends_brasil['Pesquisa pelo termo ESG'] = trends_brasil[\n",
    "    'Pesquisa pelo termo ESG'].astype(float)\n",
    "trends_brasil.head()"
   ]
  },
  {
   "cell_type": "code",
   "execution_count": null,
   "metadata": {
    "ExecuteTime": {
     "end_time": "2021-01-25T14:18:46.646244Z",
     "start_time": "2021-01-25T14:18:45.886156Z"
    },
    "code_folding": []
   },
   "outputs": [],
   "source": [
    "# Gerando gráfico\n",
    "trends_brasil.plot('Data',\n",
    "                   'Pesquisa pelo termo ESG',\n",
    "                   figsize=(20, 7),\n",
    "                   title='Busca pelo termo \"ESG\" no Brasil',\n",
    "                   grid=True)\n",
    "\n",
    "plt.show()"
   ]
  },
  {
   "cell_type": "markdown",
   "metadata": {},
   "source": [
    "### Visualização da composição das carteira"
   ]
  },
  {
   "cell_type": "code",
   "execution_count": null,
   "metadata": {},
   "outputs": [],
   "source": []
  },
  {
   "cell_type": "markdown",
   "metadata": {},
   "source": [
    "### Baixar dados de cotações diarias dos indices para visualizar o retorno ao longo do tempo"
   ]
  },
  {
   "cell_type": "code",
   "execution_count": null,
   "metadata": {},
   "outputs": [],
   "source": []
  }
 ],
 "metadata": {
  "kernelspec": {
   "display_name": "Python 3",
   "language": "python",
   "name": "python3"
  },
  "language_info": {
   "codemirror_mode": {
    "name": "ipython",
    "version": 3
   },
   "file_extension": ".py",
   "mimetype": "text/x-python",
   "name": "python",
   "nbconvert_exporter": "python",
   "pygments_lexer": "ipython3",
   "version": "3.8.5"
  }
 },
 "nbformat": 4,
 "nbformat_minor": 2
}
