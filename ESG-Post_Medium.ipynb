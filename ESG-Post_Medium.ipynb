{
 "cells": [
  {
   "cell_type": "markdown",
   "metadata": {},
   "source": [
    "# **ESG - Post Medium**\n",
    "\n",
    "***\n",
    "## Crescimento nas pesquisas sobre o termo \"ESG\"\n",
    "* **Google trends**\n",
    "\t* baixar o csv com os dados de 01/01/2010-31/12/2020 com as pesquisas do termo \"ESG\" no Brasil e no Mundo.\n",
    "\n",
    "***\n",
    "## Visualização da composição das carteira\n",
    "* **Web scraping da composição da carteiras no site da B3**\n",
    "\t* Ibovespa - [IBOV](http://www.b3.com.br/pt_br/market-data-e-indices/indices/indices-amplos/ibovespa.html)\n",
    "\t* Indice de Sustentabilidade Empresarial - [ISE](http://www.b3.com.br/pt_br/market-data-e-indices/indices/indices-de-sustentabilidade/indice-de-sustentabilidade-empresarial-ise.html)\n",
    "\t* Indice Carbono Eficiente - [ICO2](http://www.b3.com.br/pt_br/market-data-e-indices/indices/indices-de-sustentabilidade/indice-carbono-eficiente-ico2.html)\n",
    "* **Gráfico de visualização**\n",
    "\n",
    "***\n",
    "## Baixar dados de cotações diarias dos indices para visualizar o retorno ao longo do tempo\n",
    "* **Investing (API) - [investpy](https://pypi.org/project/investpy/)**\n",
    "* **plotar gráfico de linha para melhor visulização**\n",
    "\n",
    "***"
   ]
  },
  {
   "cell_type": "markdown",
   "metadata": {
    "ExecuteTime": {
     "end_time": "2021-01-22T19:54:14.322275Z",
     "start_time": "2021-01-22T19:54:14.262642Z"
    }
   },
   "source": [
    "### Importations"
   ]
  },
  {
   "cell_type": "code",
   "execution_count": 32,
   "metadata": {
    "ExecuteTime": {
     "end_time": "2021-01-25T15:09:04.222093Z",
     "start_time": "2021-01-25T15:08:59.469709Z"
    }
   },
   "outputs": [],
   "source": [
    "import pandas as pd\n",
    "pd.set_option('display.min_rows', 50)\n",
    "pd.set_option('display.max_rows', 200)\n",
    "import investpy as inv"
   ]
  },
  {
   "cell_type": "markdown",
   "metadata": {},
   "source": [
    "### Crescimento nas pesquisas sobre o termo \"ESG\""
   ]
  },
  {
   "cell_type": "code",
   "execution_count": 33,
   "metadata": {
    "ExecuteTime": {
     "end_time": "2021-01-25T15:10:35.824313Z",
     "start_time": "2021-01-25T15:10:35.806322Z"
    }
   },
   "outputs": [],
   "source": [
    "# Carregando dados csv baixados do google trends\n",
    "trends_world = pd.read_csv('esg_mundo_2010-2020.csv', sep=',')"
   ]
  },
  {
   "cell_type": "code",
   "execution_count": 34,
   "metadata": {
    "ExecuteTime": {
     "end_time": "2021-01-25T15:10:36.774583Z",
     "start_time": "2021-01-25T15:10:36.746598Z"
    },
    "scrolled": false
   },
   "outputs": [
    {
     "output_type": "execute_result",
     "data": {
      "text/plain": [
       "        Data  Pesquisa pelo termo ESG\n",
       "0 2010-01-01                     35.0\n",
       "1 2010-02-01                     32.0\n",
       "2 2010-03-01                     33.0\n",
       "3 2010-04-01                     33.0\n",
       "4 2010-05-01                     28.0"
      ],
      "text/html": "<div>\n<style scoped>\n    .dataframe tbody tr th:only-of-type {\n        vertical-align: middle;\n    }\n\n    .dataframe tbody tr th {\n        vertical-align: top;\n    }\n\n    .dataframe thead th {\n        text-align: right;\n    }\n</style>\n<table border=\"1\" class=\"dataframe\">\n  <thead>\n    <tr style=\"text-align: right;\">\n      <th></th>\n      <th>Data</th>\n      <th>Pesquisa pelo termo ESG</th>\n    </tr>\n  </thead>\n  <tbody>\n    <tr>\n      <th>0</th>\n      <td>2010-01-01</td>\n      <td>35.0</td>\n    </tr>\n    <tr>\n      <th>1</th>\n      <td>2010-02-01</td>\n      <td>32.0</td>\n    </tr>\n    <tr>\n      <th>2</th>\n      <td>2010-03-01</td>\n      <td>33.0</td>\n    </tr>\n    <tr>\n      <th>3</th>\n      <td>2010-04-01</td>\n      <td>33.0</td>\n    </tr>\n    <tr>\n      <th>4</th>\n      <td>2010-05-01</td>\n      <td>28.0</td>\n    </tr>\n  </tbody>\n</table>\n</div>"
     },
     "metadata": {},
     "execution_count": 34
    }
   ],
   "source": [
    "trends_world.columns = ['Data', 'Pesquisa pelo termo ESG']\n",
    "trends_world['Data'] = pd.to_datetime(trends_world['Data'])\n",
    "trends_world['Pesquisa pelo termo ESG'] = trends_world[\n",
    "    'Pesquisa pelo termo ESG'].astype(float)\n",
    "trends_world.head()"
   ]
  },
  {
   "cell_type": "code",
   "execution_count": null,
   "metadata": {
    "ExecuteTime": {
     "end_time": "2021-01-25T14:21:09.406071Z",
     "start_time": "2021-01-25T14:21:08.488785Z"
    }
   },
   "outputs": [],
   "source": [
    "# Gerando gráfico\n",
    "trends_world.plot('Data',\n",
    "                  'Pesquisa pelo termo ESG',\n",
    "                  figsize=(20, 7),\n",
    "                  title='Busca pelo termo \"ESG\" no mundo',\n",
    "                  grid=True)\n",
    "plt.show()"
   ]
  },
  {
   "cell_type": "code",
   "execution_count": 35,
   "metadata": {
    "ExecuteTime": {
     "end_time": "2021-01-25T14:18:43.731329Z",
     "start_time": "2021-01-25T14:18:43.669365Z"
    }
   },
   "outputs": [],
   "source": [
    "# Carregando dados csv baixados do google trends\n",
    "trends_brasil = pd.read_csv('esg_brasil_2010-2020.csv', sep=',')"
   ]
  },
  {
   "cell_type": "code",
   "execution_count": 36,
   "metadata": {
    "ExecuteTime": {
     "end_time": "2021-01-25T14:18:44.745234Z",
     "start_time": "2021-01-25T14:18:44.718249Z"
    }
   },
   "outputs": [
    {
     "output_type": "execute_result",
     "data": {
      "text/plain": [
       "        Data  Pesquisa pelo termo ESG\n",
       "0 2010-01-01                     32.0\n",
       "1 2010-02-01                     26.0\n",
       "2 2010-03-01                      7.0\n",
       "3 2010-04-01                      8.0\n",
       "4 2010-05-01                     15.0"
      ],
      "text/html": "<div>\n<style scoped>\n    .dataframe tbody tr th:only-of-type {\n        vertical-align: middle;\n    }\n\n    .dataframe tbody tr th {\n        vertical-align: top;\n    }\n\n    .dataframe thead th {\n        text-align: right;\n    }\n</style>\n<table border=\"1\" class=\"dataframe\">\n  <thead>\n    <tr style=\"text-align: right;\">\n      <th></th>\n      <th>Data</th>\n      <th>Pesquisa pelo termo ESG</th>\n    </tr>\n  </thead>\n  <tbody>\n    <tr>\n      <th>0</th>\n      <td>2010-01-01</td>\n      <td>32.0</td>\n    </tr>\n    <tr>\n      <th>1</th>\n      <td>2010-02-01</td>\n      <td>26.0</td>\n    </tr>\n    <tr>\n      <th>2</th>\n      <td>2010-03-01</td>\n      <td>7.0</td>\n    </tr>\n    <tr>\n      <th>3</th>\n      <td>2010-04-01</td>\n      <td>8.0</td>\n    </tr>\n    <tr>\n      <th>4</th>\n      <td>2010-05-01</td>\n      <td>15.0</td>\n    </tr>\n  </tbody>\n</table>\n</div>"
     },
     "metadata": {},
     "execution_count": 36
    }
   ],
   "source": [
    "trends_brasil.columns = ['Data', 'Pesquisa pelo termo ESG']\n",
    "trends_brasil['Data'] = pd.to_datetime(trends_brasil['Data'])\n",
    "trends_brasil['Pesquisa pelo termo ESG'] = trends_brasil[\n",
    "    'Pesquisa pelo termo ESG'].astype(float)\n",
    "trends_brasil.head()"
   ]
  },
  {
   "cell_type": "code",
   "execution_count": null,
   "metadata": {
    "ExecuteTime": {
     "end_time": "2021-01-25T14:18:46.646244Z",
     "start_time": "2021-01-25T14:18:45.886156Z"
    },
    "code_folding": []
   },
   "outputs": [],
   "source": [
    "# Gerando gráfico\n",
    "trends_brasil.plot('Data',\n",
    "                   'Pesquisa pelo termo ESG',\n",
    "                   figsize=(20, 7),\n",
    "                   title='Busca pelo termo \"ESG\" no Brasil',\n",
    "                   grid=True)\n",
    "\n",
    "plt.show()"
   ]
  },
  {
   "cell_type": "markdown",
   "metadata": {},
   "source": [
    "### Visualização da composição das carteira"
   ]
  },
  {
   "cell_type": "code",
   "execution_count": 37,
   "metadata": {},
   "outputs": [],
   "source": [
    "# Função para acessar os indices\n",
    "def buscar_carteira_teorica(indice):\n",
    "    url = 'http://bvmf.bmfbovespa.com.br/indices/ResumoCarteiraTeorica.aspx?Indice={}&amp;idioma=pt-br'.format(indice.upper())\n",
    "    return pd.read_html(url, decimal=',', thousands='.', index_col='Código')[0][:-1]"
   ]
  },
  {
   "cell_type": "code",
   "execution_count": 38,
   "metadata": {},
   "outputs": [
    {
     "output_type": "execute_result",
     "data": {
      "text/plain": [
       "                Ação      Tipo Qtde. Teórica  Part. (%)\n",
       "Código                                                 \n",
       "VALE3           VALE     ON NM    2837320141     12.246\n",
       "ITUB4   ITAUUNIBANCO  PN EJ N1    4757466114      6.441\n",
       "PETR4      PETROBRAS     PN N2    4566457037      5.731\n",
       "B3SA3             B3     ON NM    1930877944      5.237\n",
       "BBDC4       BRADESCO     PN N1    4261649634      4.938"
      ],
      "text/html": "<div>\n<style scoped>\n    .dataframe tbody tr th:only-of-type {\n        vertical-align: middle;\n    }\n\n    .dataframe tbody tr th {\n        vertical-align: top;\n    }\n\n    .dataframe thead th {\n        text-align: right;\n    }\n</style>\n<table border=\"1\" class=\"dataframe\">\n  <thead>\n    <tr style=\"text-align: right;\">\n      <th></th>\n      <th>Ação</th>\n      <th>Tipo</th>\n      <th>Qtde. Teórica</th>\n      <th>Part. (%)</th>\n    </tr>\n    <tr>\n      <th>Código</th>\n      <th></th>\n      <th></th>\n      <th></th>\n      <th></th>\n    </tr>\n  </thead>\n  <tbody>\n    <tr>\n      <th>VALE3</th>\n      <td>VALE</td>\n      <td>ON NM</td>\n      <td>2837320141</td>\n      <td>12.246</td>\n    </tr>\n    <tr>\n      <th>ITUB4</th>\n      <td>ITAUUNIBANCO</td>\n      <td>PN EJ N1</td>\n      <td>4757466114</td>\n      <td>6.441</td>\n    </tr>\n    <tr>\n      <th>PETR4</th>\n      <td>PETROBRAS</td>\n      <td>PN N2</td>\n      <td>4566457037</td>\n      <td>5.731</td>\n    </tr>\n    <tr>\n      <th>B3SA3</th>\n      <td>B3</td>\n      <td>ON NM</td>\n      <td>1930877944</td>\n      <td>5.237</td>\n    </tr>\n    <tr>\n      <th>BBDC4</th>\n      <td>BRADESCO</td>\n      <td>PN N1</td>\n      <td>4261649634</td>\n      <td>4.938</td>\n    </tr>\n  </tbody>\n</table>\n</div>"
     },
     "metadata": {},
     "execution_count": 38
    }
   ],
   "source": [
    "# IBOVESPA\n",
    "IBOV = buscar_carteira_teorica('IBOV')\n",
    "IBOV.sort_values('Part. (%)', ascending=False).head()"
   ]
  },
  {
   "cell_type": "code",
   "execution_count": 39,
   "metadata": {},
   "outputs": [
    {
     "output_type": "execute_result",
     "data": {
      "text/plain": [
       "                Ação   Tipo Qtde. Teórica  Part. (%)\n",
       "Código                                              \n",
       "WEGE3            WEG  ON NM     741148001     10.533\n",
       "SUZB3    SUZANO S.A.  ON NM     724921241      7.453\n",
       "PETR4      PETROBRAS  PN N2    1618637938      7.004\n",
       "NTCO3   GRUPO NATURA  ON NM     841083922      6.628\n",
       "PETR3      PETROBRAS  ON N2    1305861310      5.784"
      ],
      "text/html": "<div>\n<style scoped>\n    .dataframe tbody tr th:only-of-type {\n        vertical-align: middle;\n    }\n\n    .dataframe tbody tr th {\n        vertical-align: top;\n    }\n\n    .dataframe thead th {\n        text-align: right;\n    }\n</style>\n<table border=\"1\" class=\"dataframe\">\n  <thead>\n    <tr style=\"text-align: right;\">\n      <th></th>\n      <th>Ação</th>\n      <th>Tipo</th>\n      <th>Qtde. Teórica</th>\n      <th>Part. (%)</th>\n    </tr>\n    <tr>\n      <th>Código</th>\n      <th></th>\n      <th></th>\n      <th></th>\n      <th></th>\n    </tr>\n  </thead>\n  <tbody>\n    <tr>\n      <th>WEGE3</th>\n      <td>WEG</td>\n      <td>ON NM</td>\n      <td>741148001</td>\n      <td>10.533</td>\n    </tr>\n    <tr>\n      <th>SUZB3</th>\n      <td>SUZANO S.A.</td>\n      <td>ON NM</td>\n      <td>724921241</td>\n      <td>7.453</td>\n    </tr>\n    <tr>\n      <th>PETR4</th>\n      <td>PETROBRAS</td>\n      <td>PN N2</td>\n      <td>1618637938</td>\n      <td>7.004</td>\n    </tr>\n    <tr>\n      <th>NTCO3</th>\n      <td>GRUPO NATURA</td>\n      <td>ON NM</td>\n      <td>841083922</td>\n      <td>6.628</td>\n    </tr>\n    <tr>\n      <th>PETR3</th>\n      <td>PETROBRAS</td>\n      <td>ON N2</td>\n      <td>1305861310</td>\n      <td>5.784</td>\n    </tr>\n  </tbody>\n</table>\n</div>"
     },
     "metadata": {},
     "execution_count": 39
    }
   ],
   "source": [
    "# INDICE DE SUSTENTABILIDADE EMPRESARIAL\n",
    "ISE = buscar_carteira_teorica('ISE')\n",
    "ISE.sort_values('Part. (%)', ascending=False).head()"
   ]
  },
  {
   "cell_type": "code",
   "execution_count": 40,
   "metadata": {},
   "outputs": [
    {
     "output_type": "execute_result",
     "data": {
      "text/plain": [
       "                Ação      Tipo Qtde. Teórica  Part. (%)\n",
       "Código                                                 \n",
       "ITUB4   ITAUUNIBANCO  PN EJ N1    5098496029      9.297\n",
       "B3SA3             B3     ON NM    2221522263      8.116\n",
       "BBDC4       BRADESCO     PN N1    4657874445      7.269\n",
       "MGLU3    MAGAZ LUIZA     ON NM    3092801111      5.015\n",
       "WEGE3            WEG     ON NM     864152480      4.797"
      ],
      "text/html": "<div>\n<style scoped>\n    .dataframe tbody tr th:only-of-type {\n        vertical-align: middle;\n    }\n\n    .dataframe tbody tr th {\n        vertical-align: top;\n    }\n\n    .dataframe thead th {\n        text-align: right;\n    }\n</style>\n<table border=\"1\" class=\"dataframe\">\n  <thead>\n    <tr style=\"text-align: right;\">\n      <th></th>\n      <th>Ação</th>\n      <th>Tipo</th>\n      <th>Qtde. Teórica</th>\n      <th>Part. (%)</th>\n    </tr>\n    <tr>\n      <th>Código</th>\n      <th></th>\n      <th></th>\n      <th></th>\n      <th></th>\n    </tr>\n  </thead>\n  <tbody>\n    <tr>\n      <th>ITUB4</th>\n      <td>ITAUUNIBANCO</td>\n      <td>PN EJ N1</td>\n      <td>5098496029</td>\n      <td>9.297</td>\n    </tr>\n    <tr>\n      <th>B3SA3</th>\n      <td>B3</td>\n      <td>ON NM</td>\n      <td>2221522263</td>\n      <td>8.116</td>\n    </tr>\n    <tr>\n      <th>BBDC4</th>\n      <td>BRADESCO</td>\n      <td>PN N1</td>\n      <td>4657874445</td>\n      <td>7.269</td>\n    </tr>\n    <tr>\n      <th>MGLU3</th>\n      <td>MAGAZ LUIZA</td>\n      <td>ON NM</td>\n      <td>3092801111</td>\n      <td>5.015</td>\n    </tr>\n    <tr>\n      <th>WEGE3</th>\n      <td>WEG</td>\n      <td>ON NM</td>\n      <td>864152480</td>\n      <td>4.797</td>\n    </tr>\n  </tbody>\n</table>\n</div>"
     },
     "metadata": {},
     "execution_count": 40
    }
   ],
   "source": [
    "# INDICE DE CARBONO EFICIENTE\n",
    "ICO2 = buscar_carteira_teorica('ICO2')\n",
    "ICO2.sort_values('Part. (%)', ascending=False).head()"
   ]
  },
  {
   "cell_type": "markdown",
   "metadata": {},
   "source": [
    "### Baixar dados de cotações diarias dos indices para visualizar o retorno ao longo do tempo"
   ]
  },
  {
   "cell_type": "code",
   "execution_count": 41,
   "metadata": {},
   "outputs": [
    {
     "output_type": "execute_result",
     "data": {
      "text/plain": [
       "['MSCI Brazil Net USD',\n",
       " 'DJ Brazil',\n",
       " 'TR Brazil 50',\n",
       " 'MSCI Brazil Price USD',\n",
       " 'DJ Brazil Titans 20 ADR',\n",
       " 'BNY Mellon Brazil ADR',\n",
       " 'BNY Mellon Brazil ADR TR',\n",
       " 'BNY Mellon Brazil Classic ADR',\n",
       " 'BNY Mellon Brazil Classic ADR TR',\n",
       " 'FTSE RAFI Brazil 50',\n",
       " 'MSCI Brazil 10 40',\n",
       " 'DJ BRIC Brazil 15 Capped NTR',\n",
       " 'DJ BRIC Brazil 15 USD',\n",
       " 'DJ BRIC Brazil 15 EUR',\n",
       " 'FTSE Brazil Infrastructure Extended',\n",
       " 'MSCI Brazil Gross',\n",
       " 'DJ Brazil Titans 20 ADR TR',\n",
       " 'MSCI Brazil 25-50 Price',\n",
       " 'MSCI Brazil 20-50 Gross Return',\n",
       " 'MSCI Brazil 25-50 Net Return',\n",
       " 'FTSE Brazil Infrastructure Extended USD PR',\n",
       " 'FTSE Brazil Infrastructure Extended Total Return',\n",
       " 'FTSE Brazil Infrastructure Extended Net Tax Total',\n",
       " 'FTSE Brazil Infrastructure Extended Net Tax USD TR',\n",
       " 'DJ BRIC Brazil 15 DR',\n",
       " 'MSCI Brazil',\n",
       " 'BM&FBOVESPA Unsponsored BDRX',\n",
       " 'Small Cap Index',\n",
       " 'Tag Along',\n",
       " 'Brazil broad-Based',\n",
       " 'Brazil Index',\n",
       " 'Mid-Large Cap Index',\n",
       " 'Public Utilities',\n",
       " 'BM&FBOVESPA Real Estate IFIX',\n",
       " 'Financials',\n",
       " 'Carbon Efficient',\n",
       " 'Corporate Governance IGCNM',\n",
       " 'Bovespa Dividend',\n",
       " 'Brazil 50',\n",
       " 'Corporate Gov Trade',\n",
       " 'FTSE Brazil',\n",
       " 'Ibovespa EUR',\n",
       " 'Ibovespa USD',\n",
       " 'IVBX',\n",
       " 'IGCX',\n",
       " 'Consumption',\n",
       " 'Industrial Sector',\n",
       " 'Electrical Energy',\n",
       " 'Basic Materials',\n",
       " 'Bovespa',\n",
       " 'Corporate Sustainability',\n",
       " 'Real Estate']"
      ]
     },
     "metadata": {},
     "execution_count": 41
    }
   ],
   "source": [
    "# Lista de Indices\n",
    "indices_list = inv.get_indices_list('Brazil')\n",
    "indices_list"
   ]
  },
  {
   "cell_type": "code",
   "execution_count": 42,
   "metadata": {},
   "outputs": [
    {
     "output_type": "execute_result",
     "data": {
      "text/plain": [
       "   country                          name       last       high        low  \\\n",
       "0   brazil                       Bovespa  117380.49  118317.52  116108.90   \n",
       "1   brazil                     Brazil 50   19486.75   19624.93   19242.97   \n",
       "2   brazil                     Tag Along   26231.32   26427.27   25932.18   \n",
       "3   brazil            Brazil broad-Based    4675.76    4712.11    4623.54   \n",
       "4   brazil                  Brazil Index   49984.59   50366.86   49420.69   \n",
       "5   brazil           Mid-Large Cap Index    2273.17    2288.59    2245.81   \n",
       "6   brazil               Small Cap Index    2729.40    2768.19    2706.34   \n",
       "7   brazil               Basic Materials    5791.50    5820.67    5696.84   \n",
       "8   brazil             Electrical Energy   79325.78   79589.46   78411.69   \n",
       "9   brazil             Industrial Sector   23897.44   24000.49   23613.14   \n",
       "10  brazil                   Consumption    5324.99    5372.03    5282.85   \n",
       "11  brazil                    Financials   11543.73   11672.00   11438.95   \n",
       "12  brazil              Public Utilities    8233.78    8293.29    8097.69   \n",
       "13  brazil                   Real Estate     956.27     971.02     949.72   \n",
       "14  brazil  BM&FBOVESPA Real Estate IFIX    2862.97    2870.98    2860.60   \n",
       "15  brazil  BM&FBOVESPA Unsponsored BDRX   12608.99   12716.87   12370.18   \n",
       "16  brazil              Carbon Efficient    2449.30    2469.74    2428.65   \n",
       "17  brazil    Corporate Governance IGCNM    4360.70    4383.00    4310.52   \n",
       "18  brazil              Bovespa Dividend    6513.52    6568.11    6453.22   \n",
       "19  brazil           Corporate Gov Trade    5276.79    5316.43    5216.29   \n",
       "20  brazil      Corporate Sustainability    4071.43    4107.65    4031.80   \n",
       "21  brazil                   FTSE Brazil    4449.49    4449.49    4449.49   \n",
       "22  brazil                  Ibovespa EUR   17665.73   18182.00   17568.83   \n",
       "23  brazil                  Ibovespa USD   21493.32   22256.86   21384.82   \n",
       "24  brazil                          IVBX   15989.28   16100.83   15840.29   \n",
       "25  brazil                          IGCX   19186.44   19315.46   18963.05   \n",
       "\n",
       "     change change_percentage currency  \n",
       "0      0.00             0.00%      BRL  \n",
       "1      0.00             0.00%      BRL  \n",
       "2      0.00             0.00%      BRL  \n",
       "3      0.00             0.00%      BRL  \n",
       "4      0.00             0.00%      BRL  \n",
       "5      0.00             0.00%      BRL  \n",
       "6      0.00             0.00%      BRL  \n",
       "7      0.00             0.00%      BRL  \n",
       "8      0.00             0.00%      BRL  \n",
       "9      0.00             0.00%      BRL  \n",
       "10     0.00             0.00%      BRL  \n",
       "11     0.00             0.00%      BRL  \n",
       "12     0.00             0.00%      BRL  \n",
       "13     0.00             0.00%      BRL  \n",
       "14     0.00             0.00%      BRL  \n",
       "15    +0.00            +0.00%      BRL  \n",
       "16     0.00             0.00%      BRL  \n",
       "17     0.00             0.00%      BRL  \n",
       "18     0.00             0.00%      BRL  \n",
       "19     0.00             0.00%      BRL  \n",
       "20     0.00             0.00%      BRL  \n",
       "21     0.00             0.00%      BRL  \n",
       "22  -459.70            -2.54%      BRL  \n",
       "23  -552.18            -2.50%      BRL  \n",
       "24     0.00             0.00%      BRL  \n",
       "25     0.00             0.00%      BRL  "
      ],
      "text/html": "<div>\n<style scoped>\n    .dataframe tbody tr th:only-of-type {\n        vertical-align: middle;\n    }\n\n    .dataframe tbody tr th {\n        vertical-align: top;\n    }\n\n    .dataframe thead th {\n        text-align: right;\n    }\n</style>\n<table border=\"1\" class=\"dataframe\">\n  <thead>\n    <tr style=\"text-align: right;\">\n      <th></th>\n      <th>country</th>\n      <th>name</th>\n      <th>last</th>\n      <th>high</th>\n      <th>low</th>\n      <th>change</th>\n      <th>change_percentage</th>\n      <th>currency</th>\n    </tr>\n  </thead>\n  <tbody>\n    <tr>\n      <th>0</th>\n      <td>brazil</td>\n      <td>Bovespa</td>\n      <td>117380.49</td>\n      <td>118317.52</td>\n      <td>116108.90</td>\n      <td>0.00</td>\n      <td>0.00%</td>\n      <td>BRL</td>\n    </tr>\n    <tr>\n      <th>1</th>\n      <td>brazil</td>\n      <td>Brazil 50</td>\n      <td>19486.75</td>\n      <td>19624.93</td>\n      <td>19242.97</td>\n      <td>0.00</td>\n      <td>0.00%</td>\n      <td>BRL</td>\n    </tr>\n    <tr>\n      <th>2</th>\n      <td>brazil</td>\n      <td>Tag Along</td>\n      <td>26231.32</td>\n      <td>26427.27</td>\n      <td>25932.18</td>\n      <td>0.00</td>\n      <td>0.00%</td>\n      <td>BRL</td>\n    </tr>\n    <tr>\n      <th>3</th>\n      <td>brazil</td>\n      <td>Brazil broad-Based</td>\n      <td>4675.76</td>\n      <td>4712.11</td>\n      <td>4623.54</td>\n      <td>0.00</td>\n      <td>0.00%</td>\n      <td>BRL</td>\n    </tr>\n    <tr>\n      <th>4</th>\n      <td>brazil</td>\n      <td>Brazil Index</td>\n      <td>49984.59</td>\n      <td>50366.86</td>\n      <td>49420.69</td>\n      <td>0.00</td>\n      <td>0.00%</td>\n      <td>BRL</td>\n    </tr>\n    <tr>\n      <th>5</th>\n      <td>brazil</td>\n      <td>Mid-Large Cap Index</td>\n      <td>2273.17</td>\n      <td>2288.59</td>\n      <td>2245.81</td>\n      <td>0.00</td>\n      <td>0.00%</td>\n      <td>BRL</td>\n    </tr>\n    <tr>\n      <th>6</th>\n      <td>brazil</td>\n      <td>Small Cap Index</td>\n      <td>2729.40</td>\n      <td>2768.19</td>\n      <td>2706.34</td>\n      <td>0.00</td>\n      <td>0.00%</td>\n      <td>BRL</td>\n    </tr>\n    <tr>\n      <th>7</th>\n      <td>brazil</td>\n      <td>Basic Materials</td>\n      <td>5791.50</td>\n      <td>5820.67</td>\n      <td>5696.84</td>\n      <td>0.00</td>\n      <td>0.00%</td>\n      <td>BRL</td>\n    </tr>\n    <tr>\n      <th>8</th>\n      <td>brazil</td>\n      <td>Electrical Energy</td>\n      <td>79325.78</td>\n      <td>79589.46</td>\n      <td>78411.69</td>\n      <td>0.00</td>\n      <td>0.00%</td>\n      <td>BRL</td>\n    </tr>\n    <tr>\n      <th>9</th>\n      <td>brazil</td>\n      <td>Industrial Sector</td>\n      <td>23897.44</td>\n      <td>24000.49</td>\n      <td>23613.14</td>\n      <td>0.00</td>\n      <td>0.00%</td>\n      <td>BRL</td>\n    </tr>\n    <tr>\n      <th>10</th>\n      <td>brazil</td>\n      <td>Consumption</td>\n      <td>5324.99</td>\n      <td>5372.03</td>\n      <td>5282.85</td>\n      <td>0.00</td>\n      <td>0.00%</td>\n      <td>BRL</td>\n    </tr>\n    <tr>\n      <th>11</th>\n      <td>brazil</td>\n      <td>Financials</td>\n      <td>11543.73</td>\n      <td>11672.00</td>\n      <td>11438.95</td>\n      <td>0.00</td>\n      <td>0.00%</td>\n      <td>BRL</td>\n    </tr>\n    <tr>\n      <th>12</th>\n      <td>brazil</td>\n      <td>Public Utilities</td>\n      <td>8233.78</td>\n      <td>8293.29</td>\n      <td>8097.69</td>\n      <td>0.00</td>\n      <td>0.00%</td>\n      <td>BRL</td>\n    </tr>\n    <tr>\n      <th>13</th>\n      <td>brazil</td>\n      <td>Real Estate</td>\n      <td>956.27</td>\n      <td>971.02</td>\n      <td>949.72</td>\n      <td>0.00</td>\n      <td>0.00%</td>\n      <td>BRL</td>\n    </tr>\n    <tr>\n      <th>14</th>\n      <td>brazil</td>\n      <td>BM&amp;FBOVESPA Real Estate IFIX</td>\n      <td>2862.97</td>\n      <td>2870.98</td>\n      <td>2860.60</td>\n      <td>0.00</td>\n      <td>0.00%</td>\n      <td>BRL</td>\n    </tr>\n    <tr>\n      <th>15</th>\n      <td>brazil</td>\n      <td>BM&amp;FBOVESPA Unsponsored BDRX</td>\n      <td>12608.99</td>\n      <td>12716.87</td>\n      <td>12370.18</td>\n      <td>+0.00</td>\n      <td>+0.00%</td>\n      <td>BRL</td>\n    </tr>\n    <tr>\n      <th>16</th>\n      <td>brazil</td>\n      <td>Carbon Efficient</td>\n      <td>2449.30</td>\n      <td>2469.74</td>\n      <td>2428.65</td>\n      <td>0.00</td>\n      <td>0.00%</td>\n      <td>BRL</td>\n    </tr>\n    <tr>\n      <th>17</th>\n      <td>brazil</td>\n      <td>Corporate Governance IGCNM</td>\n      <td>4360.70</td>\n      <td>4383.00</td>\n      <td>4310.52</td>\n      <td>0.00</td>\n      <td>0.00%</td>\n      <td>BRL</td>\n    </tr>\n    <tr>\n      <th>18</th>\n      <td>brazil</td>\n      <td>Bovespa Dividend</td>\n      <td>6513.52</td>\n      <td>6568.11</td>\n      <td>6453.22</td>\n      <td>0.00</td>\n      <td>0.00%</td>\n      <td>BRL</td>\n    </tr>\n    <tr>\n      <th>19</th>\n      <td>brazil</td>\n      <td>Corporate Gov Trade</td>\n      <td>5276.79</td>\n      <td>5316.43</td>\n      <td>5216.29</td>\n      <td>0.00</td>\n      <td>0.00%</td>\n      <td>BRL</td>\n    </tr>\n    <tr>\n      <th>20</th>\n      <td>brazil</td>\n      <td>Corporate Sustainability</td>\n      <td>4071.43</td>\n      <td>4107.65</td>\n      <td>4031.80</td>\n      <td>0.00</td>\n      <td>0.00%</td>\n      <td>BRL</td>\n    </tr>\n    <tr>\n      <th>21</th>\n      <td>brazil</td>\n      <td>FTSE Brazil</td>\n      <td>4449.49</td>\n      <td>4449.49</td>\n      <td>4449.49</td>\n      <td>0.00</td>\n      <td>0.00%</td>\n      <td>BRL</td>\n    </tr>\n    <tr>\n      <th>22</th>\n      <td>brazil</td>\n      <td>Ibovespa EUR</td>\n      <td>17665.73</td>\n      <td>18182.00</td>\n      <td>17568.83</td>\n      <td>-459.70</td>\n      <td>-2.54%</td>\n      <td>BRL</td>\n    </tr>\n    <tr>\n      <th>23</th>\n      <td>brazil</td>\n      <td>Ibovespa USD</td>\n      <td>21493.32</td>\n      <td>22256.86</td>\n      <td>21384.82</td>\n      <td>-552.18</td>\n      <td>-2.50%</td>\n      <td>BRL</td>\n    </tr>\n    <tr>\n      <th>24</th>\n      <td>brazil</td>\n      <td>IVBX</td>\n      <td>15989.28</td>\n      <td>16100.83</td>\n      <td>15840.29</td>\n      <td>0.00</td>\n      <td>0.00%</td>\n      <td>BRL</td>\n    </tr>\n    <tr>\n      <th>25</th>\n      <td>brazil</td>\n      <td>IGCX</td>\n      <td>19186.44</td>\n      <td>19315.46</td>\n      <td>18963.05</td>\n      <td>0.00</td>\n      <td>0.00%</td>\n      <td>BRL</td>\n    </tr>\n  </tbody>\n</table>\n</div>"
     },
     "metadata": {},
     "execution_count": 42
    }
   ],
   "source": [
    "indices_overview = inv.get_indices_overview('Brazil')\n",
    "indices_overview"
   ]
  },
  {
   "cell_type": "code",
   "execution_count": 43,
   "metadata": {},
   "outputs": [
    {
     "output_type": "execute_result",
     "data": {
      "text/plain": [
       "                Open      High       Low     Close   Volume Currency\n",
       "Date                                                                \n",
       "2010-01-04  68587.16  70080.97  68587.16  70045.08  1655464      BRL\n",
       "2010-01-05  70045.66  70594.55  69927.80  70239.81  1984118      BRL\n",
       "2010-01-06  70236.50  70936.59  70016.47  70729.34  2243625      BRL\n",
       "2010-01-07  70722.91  70722.91  70045.05  70451.12  1554951      BRL\n",
       "2010-01-08  70455.23  70765.88  70158.13  70262.70  1634483      BRL"
      ],
      "text/html": "<div>\n<style scoped>\n    .dataframe tbody tr th:only-of-type {\n        vertical-align: middle;\n    }\n\n    .dataframe tbody tr th {\n        vertical-align: top;\n    }\n\n    .dataframe thead th {\n        text-align: right;\n    }\n</style>\n<table border=\"1\" class=\"dataframe\">\n  <thead>\n    <tr style=\"text-align: right;\">\n      <th></th>\n      <th>Open</th>\n      <th>High</th>\n      <th>Low</th>\n      <th>Close</th>\n      <th>Volume</th>\n      <th>Currency</th>\n    </tr>\n    <tr>\n      <th>Date</th>\n      <th></th>\n      <th></th>\n      <th></th>\n      <th></th>\n      <th></th>\n      <th></th>\n    </tr>\n  </thead>\n  <tbody>\n    <tr>\n      <th>2010-01-04</th>\n      <td>68587.16</td>\n      <td>70080.97</td>\n      <td>68587.16</td>\n      <td>70045.08</td>\n      <td>1655464</td>\n      <td>BRL</td>\n    </tr>\n    <tr>\n      <th>2010-01-05</th>\n      <td>70045.66</td>\n      <td>70594.55</td>\n      <td>69927.80</td>\n      <td>70239.81</td>\n      <td>1984118</td>\n      <td>BRL</td>\n    </tr>\n    <tr>\n      <th>2010-01-06</th>\n      <td>70236.50</td>\n      <td>70936.59</td>\n      <td>70016.47</td>\n      <td>70729.34</td>\n      <td>2243625</td>\n      <td>BRL</td>\n    </tr>\n    <tr>\n      <th>2010-01-07</th>\n      <td>70722.91</td>\n      <td>70722.91</td>\n      <td>70045.05</td>\n      <td>70451.12</td>\n      <td>1554951</td>\n      <td>BRL</td>\n    </tr>\n    <tr>\n      <th>2010-01-08</th>\n      <td>70455.23</td>\n      <td>70765.88</td>\n      <td>70158.13</td>\n      <td>70262.70</td>\n      <td>1634483</td>\n      <td>BRL</td>\n    </tr>\n  </tbody>\n</table>\n</div>"
     },
     "metadata": {},
     "execution_count": 43
    }
   ],
   "source": [
    "IBOV = inv.get_index_historical_data('Bovespa', country='brazil', from_date='01/01/2010', to_date='31/12/2020')\n",
    "IBOV.head()"
   ]
  },
  {
   "cell_type": "code",
   "execution_count": 44,
   "metadata": {},
   "outputs": [
    {
     "output_type": "execute_result",
     "data": {
      "text/plain": [
       "               Open     High      Low    Close  Volume Currency\n",
       "Date                                                           \n",
       "2010-01-04  1972.66  2012.95  1972.66  2008.39       0      BRL\n",
       "2010-01-05  2008.38  2028.27  2007.55  2020.25       0      BRL\n",
       "2010-01-06  2020.48  2032.72  2013.43  2023.91       0      BRL\n",
       "2010-01-07  2023.92  2023.92  1995.01  2002.91       0      BRL\n",
       "2010-01-08  2002.59  2005.02  1986.20  1996.54       0      BRL"
      ],
      "text/html": "<div>\n<style scoped>\n    .dataframe tbody tr th:only-of-type {\n        vertical-align: middle;\n    }\n\n    .dataframe tbody tr th {\n        vertical-align: top;\n    }\n\n    .dataframe thead th {\n        text-align: right;\n    }\n</style>\n<table border=\"1\" class=\"dataframe\">\n  <thead>\n    <tr style=\"text-align: right;\">\n      <th></th>\n      <th>Open</th>\n      <th>High</th>\n      <th>Low</th>\n      <th>Close</th>\n      <th>Volume</th>\n      <th>Currency</th>\n    </tr>\n    <tr>\n      <th>Date</th>\n      <th></th>\n      <th></th>\n      <th></th>\n      <th></th>\n      <th></th>\n      <th></th>\n    </tr>\n  </thead>\n  <tbody>\n    <tr>\n      <th>2010-01-04</th>\n      <td>1972.66</td>\n      <td>2012.95</td>\n      <td>1972.66</td>\n      <td>2008.39</td>\n      <td>0</td>\n      <td>BRL</td>\n    </tr>\n    <tr>\n      <th>2010-01-05</th>\n      <td>2008.38</td>\n      <td>2028.27</td>\n      <td>2007.55</td>\n      <td>2020.25</td>\n      <td>0</td>\n      <td>BRL</td>\n    </tr>\n    <tr>\n      <th>2010-01-06</th>\n      <td>2020.48</td>\n      <td>2032.72</td>\n      <td>2013.43</td>\n      <td>2023.91</td>\n      <td>0</td>\n      <td>BRL</td>\n    </tr>\n    <tr>\n      <th>2010-01-07</th>\n      <td>2023.92</td>\n      <td>2023.92</td>\n      <td>1995.01</td>\n      <td>2002.91</td>\n      <td>0</td>\n      <td>BRL</td>\n    </tr>\n    <tr>\n      <th>2010-01-08</th>\n      <td>2002.59</td>\n      <td>2005.02</td>\n      <td>1986.20</td>\n      <td>1996.54</td>\n      <td>0</td>\n      <td>BRL</td>\n    </tr>\n  </tbody>\n</table>\n</div>"
     },
     "metadata": {},
     "execution_count": 44
    }
   ],
   "source": [
    "ISE = inv.get_index_historical_data('Corporate Sustainability', country='brazil', from_date='01/01/2010', to_date='31/12/2020')\n",
    "ISE.head()"
   ]
  },
  {
   "cell_type": "code",
   "execution_count": 45,
   "metadata": {},
   "outputs": [
    {
     "output_type": "execute_result",
     "data": {
      "text/plain": [
       "               Open     High      Low    Close  Volume Currency\n",
       "Date                                                           \n",
       "2010-09-01  1025.61  1025.61  1025.61  1025.61       0      BRL\n",
       "2010-09-02  1014.89  1014.89  1014.89  1014.89       0      BRL\n",
       "2010-09-03  1007.16  1007.16  1007.16  1007.16       0      BRL\n",
       "2010-09-06  1003.63  1003.63  1003.63  1003.63       0      BRL\n",
       "2010-09-08  1004.76  1004.76  1004.76  1004.76       0      BRL"
      ],
      "text/html": "<div>\n<style scoped>\n    .dataframe tbody tr th:only-of-type {\n        vertical-align: middle;\n    }\n\n    .dataframe tbody tr th {\n        vertical-align: top;\n    }\n\n    .dataframe thead th {\n        text-align: right;\n    }\n</style>\n<table border=\"1\" class=\"dataframe\">\n  <thead>\n    <tr style=\"text-align: right;\">\n      <th></th>\n      <th>Open</th>\n      <th>High</th>\n      <th>Low</th>\n      <th>Close</th>\n      <th>Volume</th>\n      <th>Currency</th>\n    </tr>\n    <tr>\n      <th>Date</th>\n      <th></th>\n      <th></th>\n      <th></th>\n      <th></th>\n      <th></th>\n      <th></th>\n    </tr>\n  </thead>\n  <tbody>\n    <tr>\n      <th>2010-09-01</th>\n      <td>1025.61</td>\n      <td>1025.61</td>\n      <td>1025.61</td>\n      <td>1025.61</td>\n      <td>0</td>\n      <td>BRL</td>\n    </tr>\n    <tr>\n      <th>2010-09-02</th>\n      <td>1014.89</td>\n      <td>1014.89</td>\n      <td>1014.89</td>\n      <td>1014.89</td>\n      <td>0</td>\n      <td>BRL</td>\n    </tr>\n    <tr>\n      <th>2010-09-03</th>\n      <td>1007.16</td>\n      <td>1007.16</td>\n      <td>1007.16</td>\n      <td>1007.16</td>\n      <td>0</td>\n      <td>BRL</td>\n    </tr>\n    <tr>\n      <th>2010-09-06</th>\n      <td>1003.63</td>\n      <td>1003.63</td>\n      <td>1003.63</td>\n      <td>1003.63</td>\n      <td>0</td>\n      <td>BRL</td>\n    </tr>\n    <tr>\n      <th>2010-09-08</th>\n      <td>1004.76</td>\n      <td>1004.76</td>\n      <td>1004.76</td>\n      <td>1004.76</td>\n      <td>0</td>\n      <td>BRL</td>\n    </tr>\n  </tbody>\n</table>\n</div>"
     },
     "metadata": {},
     "execution_count": 45
    }
   ],
   "source": [
    "CE = inv.get_index_historical_data('Carbon Efficient', country='brazil', from_date='01/01/2010', to_date='31/12/2020')\n",
    "CE.head()"
   ]
  }
 ],
 "metadata": {
  "kernelspec": {
   "display_name": "Python 3",
   "language": "python",
   "name": "python3"
  },
  "language_info": {
   "codemirror_mode": {
    "name": "ipython",
    "version": 3
   },
   "file_extension": ".py",
   "mimetype": "text/x-python",
   "name": "python",
   "nbconvert_exporter": "python",
   "pygments_lexer": "ipython3",
   "version": "3.8.5-final"
  }
 },
 "nbformat": 4,
 "nbformat_minor": 2
}