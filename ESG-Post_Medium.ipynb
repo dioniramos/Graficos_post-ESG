{
 "cells": [
  {
   "cell_type": "markdown",
   "metadata": {},
   "source": [
    "# **ESG - Post Medium**\n",
    "\n",
    "***\n",
    "## Crescimento nas pesquisas sobre o termo \"ESG\"\n",
    "* **Google trends**\n",
    "\t* baixar o csv com os dados de 01/01/2011-31/12/2020 com as pesquisas do termo \"ESG\" no Brasil e no Mundo.\n",
    "\n",
    "***\n",
    "## Visualização da composição das carteira\n",
    "* **Web scraping da composição da carteiras no site da B3**\n",
    "\t* Ibovespa - [IBOV](http://www.b3.com.br/pt_br/market-data-e-indices/indices/indices-amplos/ibovespa.html)\n",
    "\t* Indice de Sustentabilidade Empresarial - [ISE](http://www.b3.com.br/pt_br/market-data-e-indices/indices/indices-de-sustentabilidade/indice-de-sustentabilidade-empresarial-ise.html)\n",
    "\t* Indice Carbono Eficiente - [ICO2](http://www.b3.com.br/pt_br/market-data-e-indices/indices/indices-de-sustentabilidade/indice-carbono-eficiente-ico2.html)\n",
    "* **Gráfico de visualização**\n",
    "\n",
    "***\n",
    "## Baixar dados de cotações diarias dos indices para visualizar o retorno ao longo do tempo\n",
    "* **Investing (API) - [investpy](https://pypi.org/project/investpy/)**\n",
    "* **plotar gráfico de linha para melhor visulização**\n",
    "\n",
    "***"
   ]
  },
  {
   "cell_type": "markdown",
   "metadata": {
    "ExecuteTime": {
     "end_time": "2021-01-22T19:54:14.322275Z",
     "start_time": "2021-01-22T19:54:14.262642Z"
    }
   },
   "source": [
    "### Importations"
   ]
  },
  {
   "cell_type": "code",
   "execution_count": null,
   "metadata": {
    "ExecuteTime": {
     "end_time": "2021-01-26T12:19:29.590426Z",
     "start_time": "2021-01-26T12:19:25.190325Z"
    }
   },
   "outputs": [],
   "source": [
    "import pandas as pd\n",
    "pd.set_option('display.min_rows', 50)\n",
    "pd.set_option('display.max_rows', 200)\n",
    "import investpy as inv\n",
    "import matplotlib.pyplot as plt"
   ]
  },
  {
   "cell_type": "markdown",
   "metadata": {},
   "source": [
    "### Crescimento nas pesquisas sobre o termo \"ESG\""
   ]
  },
  {
   "cell_type": "code",
   "execution_count": null,
   "metadata": {
    "ExecuteTime": {
     "end_time": "2021-01-26T11:49:40.387782Z",
     "start_time": "2021-01-26T11:49:40.374789Z"
    }
   },
   "outputs": [],
   "source": [
    "# Carregando dados csv baixados do google trends\n",
    "trends_world = pd.read_csv('esg_mundo_2011-2020.csv', sep=',', header=1)"
   ]
  },
  {
   "cell_type": "code",
   "execution_count": null,
   "metadata": {
    "ExecuteTime": {
     "end_time": "2021-01-26T11:49:43.137929Z",
     "start_time": "2021-01-26T11:49:43.090957Z"
    },
    "scrolled": false
   },
   "outputs": [],
   "source": [
    "trends_world.columns = ['Data', 'Pesquisa pelo termo ESG']\n",
    "trends_world['Data'] = pd.to_datetime(trends_world['Data'])\n",
    "trends_world['Pesquisa pelo termo ESG'] = trends_world[\n",
    "    'Pesquisa pelo termo ESG'].astype(float)\n",
    "trends_world.head()"
   ]
  },
  {
   "cell_type": "code",
   "execution_count": null,
   "metadata": {
    "ExecuteTime": {
     "end_time": "2021-01-26T11:49:47.150738Z",
     "start_time": "2021-01-26T11:49:47.118759Z"
    }
   },
   "outputs": [],
   "source": [
    "trends_world.info()"
   ]
  },
  {
   "cell_type": "code",
   "execution_count": null,
   "metadata": {
    "ExecuteTime": {
     "end_time": "2021-01-26T11:49:49.609702Z",
     "start_time": "2021-01-26T11:49:48.541487Z"
    }
   },
   "outputs": [],
   "source": [
    "# Gerando gráfico\n",
    "trends_world.plot('Data',\n",
    "                  'Pesquisa pelo termo ESG',\n",
    "                  figsize=(15, 6),\n",
    "                  title='Busca pelo termo \"ESG\" no mundo')\n",
    "\n",
    "plt.savefig('trends_world.png')\n",
    "plt.show()"
   ]
  },
  {
   "cell_type": "code",
   "execution_count": null,
   "metadata": {
    "ExecuteTime": {
     "end_time": "2021-01-26T11:49:53.200300Z",
     "start_time": "2021-01-26T11:49:53.185308Z"
    }
   },
   "outputs": [],
   "source": [
    "# Carregando dados csv baixados do google trends\n",
    "trends_brasil = pd.read_csv('esg_brasil_2011-2020.csv', sep=',', header=1)"
   ]
  },
  {
   "cell_type": "code",
   "execution_count": null,
   "metadata": {
    "ExecuteTime": {
     "end_time": "2021-01-26T11:49:54.818457Z",
     "start_time": "2021-01-26T11:49:54.788473Z"
    }
   },
   "outputs": [],
   "source": [
    "trends_brasil.columns = ['Data', 'Pesquisa pelo termo ESG']\n",
    "trends_brasil['Data'] = pd.to_datetime(trends_brasil['Data'])\n",
    "trends_brasil['Pesquisa pelo termo ESG'] = trends_brasil[\n",
    "    'Pesquisa pelo termo ESG'].astype(float)\n",
    "trends_brasil.head()"
   ]
  },
  {
   "cell_type": "code",
   "execution_count": null,
   "metadata": {
    "ExecuteTime": {
     "end_time": "2021-01-26T11:49:58.352305Z",
     "start_time": "2021-01-26T11:49:58.323323Z"
    }
   },
   "outputs": [],
   "source": [
    "trends_brasil.info()"
   ]
  },
  {
   "cell_type": "code",
   "execution_count": null,
   "metadata": {
    "ExecuteTime": {
     "end_time": "2021-01-26T11:50:07.563629Z",
     "start_time": "2021-01-26T11:50:06.581193Z"
    },
    "code_folding": []
   },
   "outputs": [],
   "source": [
    "# Gerando gráfico\n",
    "trends_brasil.plot('Data',\n",
    "                   'Pesquisa pelo termo ESG',\n",
    "                   figsize=(15, 6),\n",
    "                   title='Busca pelo termo \"ESG\" no Brasil')\n",
    "\n",
    "plt.savefig('trends_brasil.png')\n",
    "plt.show()"
   ]
  },
  {
   "cell_type": "markdown",
   "metadata": {},
   "source": [
    "### Visualização da composição das carteira"
   ]
  },
  {
   "cell_type": "code",
   "execution_count": null,
   "metadata": {
    "ExecuteTime": {
     "end_time": "2021-01-26T12:19:31.759135Z",
     "start_time": "2021-01-26T12:19:31.750140Z"
    }
   },
   "outputs": [],
   "source": [
    "# Função para acessar os indices\n",
    "def buscar_carteira_teorica(indice):\n",
    "    url = 'http://bvmf.bmfbovespa.com.br/indices/ResumoCarteiraTeorica.aspx?Indice={}&amp;idioma=pt-br'.format(indice.upper())\n",
    "    return pd.read_html(url, decimal=',', thousands='.', index_col='Código')[0][:-1]"
   ]
  },
  {
   "cell_type": "code",
   "execution_count": null,
   "metadata": {
    "ExecuteTime": {
     "end_time": "2021-01-26T12:19:51.806293Z",
     "start_time": "2021-01-26T12:19:36.506009Z"
    }
   },
   "outputs": [],
   "source": [
    "# IBOVESPA\n",
    "IBOV = buscar_carteira_teorica('IBOV')\n",
    "IBOV.index.names = ['tickers']\n",
    "IBOV.columns = ['Company', 'segment', 'theoretical_quantity', 'percentage_share']\n",
    "IBOV.sort_values('percentage_share', ascending=False).head()"
   ]
  },
  {
   "cell_type": "code",
   "execution_count": null,
   "metadata": {
    "ExecuteTime": {
     "end_time": "2021-01-26T12:19:56.349300Z",
     "start_time": "2021-01-26T12:19:51.816286Z"
    }
   },
   "outputs": [],
   "source": [
    "# INDICE DE SUSTENTABILIDADE EMPRESARIAL\n",
    "ISE = buscar_carteira_teorica('ISE')\n",
    "ISE.index.names = ['tickers']\n",
    "ISE.columns = ['Company', 'segment', 'theoretical_quantity', 'percentage_share']\n",
    "ISE.sort_values('percentage_share', ascending=False).head()"
   ]
  },
  {
   "cell_type": "code",
   "execution_count": null,
   "metadata": {
    "ExecuteTime": {
     "end_time": "2021-01-26T12:19:56.815440Z",
     "start_time": "2021-01-26T12:19:56.370287Z"
    }
   },
   "outputs": [],
   "source": [
    "# INDICE DE CARBONO EFICIENTE\n",
    "ICO2 = buscar_carteira_teorica('ICO2')\n",
    "ICO2.index.names = ['tickers']\n",
    "ICO2.columns = ['Company', 'segment', 'theoretical_quantity', 'percentage_share']\n",
    "ICO2.sort_values('percentage_share', ascending=False).head()"
   ]
  },
  {
   "cell_type": "markdown",
   "metadata": {},
   "source": [
    "### Baixar dados de cotações diarias dos indices para visualizar o retorno ao longo do tempo"
   ]
  },
  {
   "cell_type": "code",
   "execution_count": null,
   "metadata": {
    "ExecuteTime": {
     "end_time": "2021-01-26T11:51:00.714032Z",
     "start_time": "2021-01-26T11:50:32.595Z"
    }
   },
   "outputs": [],
   "source": [
    "# Lista de Indices\n",
    "indices_list = inv.get_indices_list('Brazil')\n",
    "indices_list"
   ]
  },
  {
   "cell_type": "code",
   "execution_count": null,
   "metadata": {
    "ExecuteTime": {
     "end_time": "2021-01-26T11:51:00.716031Z",
     "start_time": "2021-01-26T11:50:33.019Z"
    }
   },
   "outputs": [],
   "source": [
    "indices_overview = inv.get_indices_overview('Brazil')\n",
    "indices_overview"
   ]
  },
  {
   "cell_type": "code",
   "execution_count": null,
   "metadata": {
    "ExecuteTime": {
     "end_time": "2021-01-26T11:51:00.719029Z",
     "start_time": "2021-01-26T11:50:33.417Z"
    }
   },
   "outputs": [],
   "source": [
    "close_index = ['Bovespa', 'Corporate Sustainability', 'Carbon Efficient']\n",
    "\n",
    "mydata = pd.DataFrame()\n",
    "for c in close_index:\n",
    "    mydata[c] = inv.get_index_historical_data(c, country='brazil', from_date='01/01/2011', to_date='31/12/2020')[\"Close\"]\n",
    "\n",
    "mydata.head()"
   ]
  },
  {
   "cell_type": "code",
   "execution_count": null,
   "metadata": {
    "ExecuteTime": {
     "end_time": "2021-01-26T11:51:00.724026Z",
     "start_time": "2021-01-26T11:50:34.331Z"
    }
   },
   "outputs": [],
   "source": [
    "mydata.info()"
   ]
  },
  {
   "cell_type": "code",
   "execution_count": null,
   "metadata": {
    "ExecuteTime": {
     "end_time": "2021-01-26T11:51:00.727024Z",
     "start_time": "2021-01-26T11:50:35.025Z"
    }
   },
   "outputs": [],
   "source": [
    "(mydata / mydata.iloc[0] * 100).plot(figsize = (15, 6));\n",
    "plt.savefig('index_return-2011_2020.png')\n",
    "plt.show()"
   ]
  }
 ],
 "metadata": {
  "kernelspec": {
   "display_name": "Python 3",
   "language": "python",
   "name": "python3"
  },
  "language_info": {
   "codemirror_mode": {
    "name": "ipython",
    "version": 3
   },
   "file_extension": ".py",
   "mimetype": "text/x-python",
   "name": "python",
   "nbconvert_exporter": "python",
   "pygments_lexer": "ipython3",
   "version": "3.8.5"
  }
 },
 "nbformat": 4,
 "nbformat_minor": 2
}
