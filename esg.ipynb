{
 "cells": [
  {
   "cell_type": "code",
   "execution_count": null,
   "metadata": {},
   "outputs": [],
   "source": [
    "# instalação e importação de Pacotes\n",
    "import pandas as pd\n",
    "import matplotlib.pyplot as plt"
   ]
  },
  {
   "cell_type": "code",
   "execution_count": null,
   "metadata": {},
   "outputs": [],
   "source": [
    "# Carregando dados csv baixados do google trends\n",
    "trends_world = pd.read_csv('esg_mundo_2010-2020.csv', sep=',')\n",
    "trends_world.head()"
   ]
  },
  {
   "cell_type": "code",
   "execution_count": null,
   "metadata": {},
   "outputs": [],
   "source": [
    "trends_world.columns = ['Data', 'Pesquisa pelo termo ESG']"
   ]
  },
  {
   "cell_type": "code",
   "execution_count": null,
   "metadata": {},
   "outputs": [],
   "source": [
    "trends_world['Data'] = pd.to_datetime(trends_world['Data'])\n",
    "trends_world['Pesquisa pelo termo ESG'] = trends_world['Pesquisa pelo termo ESG'].astype( float )"
   ]
  },
  {
   "cell_type": "code",
   "execution_count": null,
   "metadata": {},
   "outputs": [],
   "source": [
    "print(trends_world.dtypes)"
   ]
  },
  {
   "cell_type": "code",
   "execution_count": null,
   "metadata": {},
   "outputs": [],
   "source": [
    "# Gerando gráfico \n",
    "trends_world.plot('Data', 'Pesquisa pelo termo ESG',\n",
    "                    figsize=(15, 4),\n",
    "                    title='Busca pelo termo \"ESG\" no mundo',\n",
    "                    grid=True)\n",
    "plt.show()"
   ]
  },
  {
   "cell_type": "code",
   "execution_count": null,
   "metadata": {},
   "outputs": [],
   "source": [
    "# Carregando dados csv baixados do google trends\n",
    "trends_brasil = pd.read_csv('esg_brasil_2010-2020.csv', sep=',')\n",
    "trends_brasil.head()"
   ]
  },
  {
   "cell_type": "code",
   "execution_count": null,
   "metadata": {},
   "outputs": [],
   "source": [
    "trends_brasil.columns = ['Data', 'Pesquisa pelo termo ESG']"
   ]
  },
  {
   "cell_type": "code",
   "execution_count": null,
   "metadata": {},
   "outputs": [],
   "source": [
    "trends_brasil['Data'] = pd.to_datetime(trends_brasil['Data'])\n",
    "trends_brasil['Pesquisa pelo termo ESG'] = trends_brasil['Pesquisa pelo termo ESG'].astype( float )"
   ]
  },
  {
   "cell_type": "code",
   "execution_count": null,
   "metadata": {},
   "outputs": [],
   "source": [
    "print(trends_brasil.dtypes)"
   ]
  },
  {
   "cell_type": "code",
   "execution_count": null,
   "metadata": {},
   "outputs": [],
   "source": [
    "# Gerando gráfico \n",
    "trends_brasil.plot('Data', 'Pesquisa pelo termo ESG',\n",
    "                    figsize=(15, 4),\n",
    "                    title='Busca pelo termo \"ESG\" no Brasil', \n",
    "                    grid=True)\n",
    "\n",
    "plt.show()"
   ]
  }
 ],
 "metadata": {
  "kernelspec": {
   "name": "python3",
   "display_name": "Python 3",
   "language": "python"
  },
  "language_info": {
   "codemirror_mode": {
    "name": "ipython",
    "version": 3
   },
   "file_extension": ".py",
   "mimetype": "text/x-python",
   "name": "python",
   "nbconvert_exporter": "python",
   "pygments_lexer": "ipython3",
   "version": "3.8.5-final"
  }
 },
 "nbformat": 4,
 "nbformat_minor": 2
}